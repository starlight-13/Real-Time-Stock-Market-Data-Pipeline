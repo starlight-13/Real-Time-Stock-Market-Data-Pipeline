{
 "cells": [
  {
   "cell_type": "code",
   "execution_count": null,
   "id": "4ff93ba6-0e61-4f99-b4cc-1ffc6a2c684b",
   "metadata": {},
   "outputs": [],
   "source": [
    "!pip install kafka-python"
   ]
  },
  {
   "cell_type": "code",
   "execution_count": null,
   "id": "6fb0de9b-eb9c-4b76-8aa6-ff5b76b3a961",
   "metadata": {},
   "outputs": [],
   "source": [
    "import pandas as pd\n",
    "from kafka import KafkaProducer\n",
    "from time import sleep\n",
    "from json import dumps\n",
    "import json"
   ]
  },
  {
   "cell_type": "code",
   "execution_count": null,
   "id": "74566d8e-ff95-4e1a-8ae8-89b36d1ae64e",
   "metadata": {},
   "outputs": [],
   "source": [
    "# connecting to kafka server via local machine\n",
    "producer = KafkaProducer(bootstrap_servers=['<ip>:9092'], # public EC2 IP\n",
    "                         value_serializer=lambda x: \n",
    "                         dumps(x).encode('utf-8'))"
   ]
  },
  {
   "cell_type": "code",
   "execution_count": null,
   "id": "0050a69f-e1f2-4a89-af9f-7a5f5727888c",
   "metadata": {},
   "outputs": [],
   "source": [
    "producer.send('demo_test', value={'Hello':'There'})  # demo_test is the topic name\n",
    "# Send data in JSON format (like a dictionary)\n",
    "# You'll be able to see this value on the Consumer terminal"
   ]
  },
  {
   "cell_type": "code",
   "execution_count": null,
   "id": "fe2ff96d-9f67-4f40-a6b3-c6cb031c5061",
   "metadata": {},
   "outputs": [],
   "source": [
    "df = pd.read_csv(\"stock_data.csv\")"
   ]
  },
  {
   "cell_type": "code",
   "execution_count": null,
   "id": "8b7e1885-ae7d-458d-851a-a7634d398257",
   "metadata": {},
   "outputs": [],
   "source": [
    "df.head()"
   ]
  },
  {
   "cell_type": "code",
   "execution_count": null,
   "id": "8d6e8b67-aa56-42b9-b456-ddbb96b73b3a",
   "metadata": {},
   "outputs": [],
   "source": [
    "while True:\n",
    "    dict_stock = df.sample(1).to_dict(orient=\"records\")[0]\n",
    "    producer.send('demo_test', value=dict_stock)\n",
    "    sleep(1)"
   ]
  },
  {
   "cell_type": "code",
   "execution_count": null,
   "id": "84c97797-eb58-48c5-bcb6-856fbddf7471",
   "metadata": {},
   "outputs": [],
   "source": [
    "producer.flush()"
   ]
  },
  {
   "cell_type": "code",
   "execution_count": null,
   "id": "dc0be0af-dc89-4ef8-ac81-aed019a615cb",
   "metadata": {},
   "outputs": [],
   "source": []
  }
 ],
 "metadata": {
  "kernelspec": {
   "display_name": "Python 3 (ipykernel)",
   "language": "python",
   "name": "python3"
  },
  "language_info": {
   "codemirror_mode": {
    "name": "ipython",
    "version": 3
   },
   "file_extension": ".py",
   "mimetype": "text/x-python",
   "name": "python",
   "nbconvert_exporter": "python",
   "pygments_lexer": "ipython3",
   "version": "3.11.7"
  }
 },
 "nbformat": 4,
 "nbformat_minor": 5
}
